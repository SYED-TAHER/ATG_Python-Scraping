{
 "cells": [
  {
   "cell_type": "markdown",
   "metadata": {},
   "source": [
    "# LinkedIn Web Scraping using Selenium "
   ]
  },
  {
   "cell_type": "code",
   "execution_count": 108,
   "metadata": {},
   "outputs": [],
   "source": [
    "# importing webdriver will help in creating a dummy web browser for us.\n",
    "from selenium import webdriver\n",
    "\n",
    "# we use this library to ensure there is a span of time between requests.\n",
    "import time\n",
    "\n",
    "# pandas library helps in generating to DataFrames.\n",
    "import pandas as pd\n",
    "\n",
    "\n",
    "# import selenium By to locate to elements to scraped \n",
    "from selenium.webdriver.common.by import By\n",
    "\n",
    "import requests\n"
   ]
  },
  {
   "cell_type": "markdown",
   "metadata": {},
   "source": [
    " We will be using a Google Chrome driver. We can download it from this site:  https://chromedriver.chromium.org/downloads"
   ]
  },
  {
   "cell_type": "markdown",
   "metadata": {},
   "source": [
    "### Move the driver file to a PATH\n",
    "Go to the Downloads directory, unzip the file and move it to 'C:/chromedrivers/chromedriver.exe' PATH."
   ]
  },
  {
   "cell_type": "code",
   "execution_count": 109,
   "metadata": {},
   "outputs": [
    {
     "name": "stderr",
     "output_type": "stream",
     "text": [
      "<ipython-input-109-813da720f857>:1: DeprecationWarning: executable_path has been deprecated, please pass in a Service object\n",
      "  driver = webdriver.Chrome(r'C:/chromedrivers/chromedriver.exe')\n"
     ]
    }
   ],
   "source": [
    "driver = webdriver.Chrome(r'C:/chromedrivers/chromedriver.exe')\n"
   ]
  },
  {
   "cell_type": "code",
   "execution_count": 110,
   "metadata": {},
   "outputs": [],
   "source": [
    "#input URL\n",
    "driver.get('https://www.linkedin.com/')\n",
    "time.sleep(3)\n"
   ]
  },
  {
   "cell_type": "code",
   "execution_count": 111,
   "metadata": {},
   "outputs": [],
   "source": [
    "# For Login into LinkedIn\n",
    "username = driver.find_element(by=By.ID, value=\"session_key\")\n",
    "username.send_keys(\"mohammedsyedtaher1@gmail.com\")#provide linkedin login user_id in the blank. \n",
    "password = driver.find_element(by=By.ID, value=\"session_password\")\n",
    "password.send_keys(\"Msdt@8328\") #provide linkedin login password in the blank.\n",
    "time.sleep(2)"
   ]
  },
  {
   "cell_type": "markdown",
   "metadata": {},
   "source": [
    "![LinkedIn](https://imgur.com/hYqdJHc.png)"
   ]
  },
  {
   "cell_type": "code",
   "execution_count": 112,
   "metadata": {},
   "outputs": [],
   "source": [
    "# Submit Button click\n",
    "login_button = driver.find_element(by=By.CLASS_NAME, value=\"sign-in-form__submit-button\")\n",
    "login_button.click()\n",
    "time.sleep(2)"
   ]
  },
  {
   "cell_type": "code",
   "execution_count": 113,
   "metadata": {},
   "outputs": [],
   "source": [
    "# Input URL for Linkedin jobs\n",
    "driver.get(\"https://www.linkedin.com/jobs/search/?keywords=web%20developer\")\n",
    "driver.execute_script(\"window.scrollTo(0, document.body.scrollHeight);\")\n",
    "time.sleep(5)"
   ]
  },
  {
   "cell_type": "markdown",
   "metadata": {},
   "source": [
    "# Job Category:Information Technology\n"
   ]
  },
  {
   "cell_type": "code",
   "execution_count": 114,
   "metadata": {},
   "outputs": [],
   "source": [
    "Sub_Category =['Web Developer']"
   ]
  },
  {
   "cell_type": "code",
   "execution_count": 115,
   "metadata": {},
   "outputs": [],
   "source": [
    "# Input URL for Linkedin jobs\n",
    "\n",
    "for job in Sub_Category:\n",
    "    driver.get(\"https://www.linkedin.com/jobs/search/?keywords=\" + job)\n",
    "    driver.execute_script(\"window.scrollTo(0, document.body.scrollHeight);\")\n",
    "    time.sleep(2)"
   ]
  },
  {
   "cell_type": "code",
   "execution_count": 116,
   "metadata": {},
   "outputs": [],
   "source": [
    "# Creating empty Python Dictionary\n",
    "dictn = {'job_title': [], 'company': [], 'location': []}\n",
    "titles = driver.find_elements(by=By.XPATH, value=\"//div[@class='full-width artdeco-entity-lockup__title ember-view']/a\")\n",
    "company = driver.find_elements(by=By.XPATH, value=\"//div[@class='artdeco-entity-lockup__subtitle ember-view']/a\")\n",
    "location = driver.find_elements(by=By.XPATH, value='//div[@class=\"artdeco-entity-lockup__caption ember-view\"]/ul/li[1]')"
   ]
  },
  {
   "cell_type": "code",
   "execution_count": 117,
   "metadata": {},
   "outputs": [
    {
     "name": "stdout",
     "output_type": "stream",
     "text": [
      "7\n"
     ]
    }
   ],
   "source": [
    "# Store data into Python Dictionary\n",
    "index = min(len(titles),len(company),len(location))\n",
    "print(index)\n",
    "for i in range(index):\n",
    "    dictn['job_title'].append(titles[i].text)\n",
    "    dictn['company'].append(company[i].text)\n",
    "    dictn['location'].append(location[i].text)"
   ]
  },
  {
   "cell_type": "code",
   "execution_count": 118,
   "metadata": {},
   "outputs": [
    {
     "data": {
      "text/html": [
       "<div>\n",
       "<style scoped>\n",
       "    .dataframe tbody tr th:only-of-type {\n",
       "        vertical-align: middle;\n",
       "    }\n",
       "\n",
       "    .dataframe tbody tr th {\n",
       "        vertical-align: top;\n",
       "    }\n",
       "\n",
       "    .dataframe thead th {\n",
       "        text-align: right;\n",
       "    }\n",
       "</style>\n",
       "<table border=\"1\" class=\"dataframe\">\n",
       "  <thead>\n",
       "    <tr style=\"text-align: right;\">\n",
       "      <th></th>\n",
       "      <th>job_title</th>\n",
       "      <th>company</th>\n",
       "      <th>location</th>\n",
       "    </tr>\n",
       "  </thead>\n",
       "  <tbody>\n",
       "    <tr>\n",
       "      <th>0</th>\n",
       "      <td>PHP Web Developer</td>\n",
       "      <td>ZeetaPro Inc.</td>\n",
       "      <td>Kolkata, West Bengal, India</td>\n",
       "    </tr>\n",
       "    <tr>\n",
       "      <th>1</th>\n",
       "      <td>Frontend Developer</td>\n",
       "      <td>SkillVertex</td>\n",
       "      <td>Bengaluru, Karnataka, India</td>\n",
       "    </tr>\n",
       "    <tr>\n",
       "      <th>2</th>\n",
       "      <td>Frontend Developer</td>\n",
       "      <td>Reed &amp; Willow Talent Advisory Group</td>\n",
       "      <td>Pune, Maharashtra, India</td>\n",
       "    </tr>\n",
       "    <tr>\n",
       "      <th>3</th>\n",
       "      <td>Application Developer- Full Stack Developer</td>\n",
       "      <td>YTSolutions (I) Pvt Ltd</td>\n",
       "      <td>Bengaluru, Karnataka, India</td>\n",
       "    </tr>\n",
       "    <tr>\n",
       "      <th>4</th>\n",
       "      <td>Frontend Developer</td>\n",
       "      <td>EdSanta Education</td>\n",
       "      <td>India</td>\n",
       "    </tr>\n",
       "    <tr>\n",
       "      <th>5</th>\n",
       "      <td>Web Developer</td>\n",
       "      <td>TypeTail</td>\n",
       "      <td>Chennai, Tamil Nadu, India</td>\n",
       "    </tr>\n",
       "    <tr>\n",
       "      <th>6</th>\n",
       "      <td>Web Developer</td>\n",
       "      <td>Apna Godam</td>\n",
       "      <td>Jaipur, Rajasthan, India</td>\n",
       "    </tr>\n",
       "  </tbody>\n",
       "</table>\n",
       "</div>"
      ],
      "text/plain": [
       "                                     job_title  \\\n",
       "0                            PHP Web Developer   \n",
       "1                           Frontend Developer   \n",
       "2                           Frontend Developer   \n",
       "3  Application Developer- Full Stack Developer   \n",
       "4                           Frontend Developer   \n",
       "5                                Web Developer   \n",
       "6                                Web Developer   \n",
       "\n",
       "                               company                     location  \n",
       "0                        ZeetaPro Inc.  Kolkata, West Bengal, India  \n",
       "1                          SkillVertex  Bengaluru, Karnataka, India  \n",
       "2  Reed & Willow Talent Advisory Group     Pune, Maharashtra, India  \n",
       "3              YTSolutions (I) Pvt Ltd  Bengaluru, Karnataka, India  \n",
       "4                    EdSanta Education                        India  \n",
       "5                             TypeTail   Chennai, Tamil Nadu, India  \n",
       "6                           Apna Godam     Jaipur, Rajasthan, India  "
      ]
     },
     "execution_count": 118,
     "metadata": {},
     "output_type": "execute_result"
    }
   ],
   "source": [
    "# Creating CSV file using Pandas \n",
    "df = pd.DataFrame(dictn)\n",
    "df\n"
   ]
  },
  {
   "cell_type": "markdown",
   "metadata": {},
   "source": [
    "# Creating Database Table for Jobs"
   ]
  },
  {
   "cell_type": "code",
   "execution_count": 138,
   "metadata": {},
   "outputs": [],
   "source": [
    "import sqlite3\n",
    "\n",
    "#create connection\n",
    "conn = sqlite3.connect('jobs.db')\n",
    "c = conn.cursor()"
   ]
  },
  {
   "cell_type": "code",
   "execution_count": 139,
   "metadata": {
    "collapsed": true
   },
   "outputs": [
    {
     "ename": "OperationalError",
     "evalue": "table job already exists",
     "output_type": "error",
     "traceback": [
      "\u001b[1;31m---------------------------------------------------------------------------\u001b[0m",
      "\u001b[1;31mOperationalError\u001b[0m                          Traceback (most recent call last)",
      "\u001b[1;32m<ipython-input-139-83a1c0a602d4>\u001b[0m in \u001b[0;36m<module>\u001b[1;34m\u001b[0m\n\u001b[0;32m      1\u001b[0m \u001b[1;31m#create a table\u001b[0m\u001b[1;33m\u001b[0m\u001b[1;33m\u001b[0m\u001b[1;33m\u001b[0m\u001b[0m\n\u001b[1;32m----> 2\u001b[1;33m \u001b[0mc\u001b[0m\u001b[1;33m.\u001b[0m\u001b[0mexecute\u001b[0m\u001b[1;33m(\u001b[0m\u001b[1;34m'''CREATE TABLE job(job_title  TEXT,company TEXT,location TEXT)'''\u001b[0m\u001b[1;33m)\u001b[0m\u001b[1;33m\u001b[0m\u001b[1;33m\u001b[0m\u001b[0m\n\u001b[0m",
      "\u001b[1;31mOperationalError\u001b[0m: table job already exists"
     ]
    }
   ],
   "source": [
    "#create a table\n",
    "c.execute('''CREATE TABLE job(job_title  TEXT,company TEXT,location TEXT)''')"
   ]
  },
  {
   "cell_type": "code",
   "execution_count": 140,
   "metadata": {},
   "outputs": [],
   "source": [
    "for i in range(6):\n",
    "\n",
    "    c.execute('''INSERT INTO job VALUES(?,?,?)''', ((dictn[\"job_title\"][i]), (dictn[\"company\"][i]), (dictn[\"location\"][i])))\n",
    "conn.commit()\n"
   ]
  },
  {
   "cell_type": "code",
   "execution_count": 141,
   "metadata": {},
   "outputs": [
    {
     "name": "stdout",
     "output_type": "stream",
     "text": [
      "[('Full Stack Developer - Intern', 'Xdigics Technologies Private Limited', 'Bengaluru, Karnataka, India'), ('Web Developer', 'Prishth Technosoft', 'India'), ('Full Stack Engineer', 'Job In Gujarat', 'Gandhinagar, Gujarat, India'), ('Web Developer', \"Pethanatchi's Studio of Designing\", 'Sivakasi, Tamil Nadu, India'), ('Full Stack Engineer', 'IMS Group', 'Jaipur, Rajasthan, India'), ('Junior Web Developer', 'WTW', 'Ahmedabad, Gujarat, India'), ('PHP Web Developer', 'ZeetaPro Inc.', 'Kolkata, West Bengal, India'), ('Frontend Developer', 'SkillVertex', 'Bengaluru, Karnataka, India'), ('Frontend Developer', 'Reed & Willow Talent Advisory Group', 'Pune, Maharashtra, India'), ('Application Developer- Full Stack Developer', 'YTSolutions (I) Pvt Ltd', 'Bengaluru, Karnataka, India'), ('Frontend Developer', 'EdSanta Education', 'India'), ('Web Developer', 'TypeTail', 'Chennai, Tamil Nadu, India'), ('PHP Web Developer', 'ZeetaPro Inc.', 'Kolkata, West Bengal, India'), ('Frontend Developer', 'SkillVertex', 'Bengaluru, Karnataka, India'), ('Frontend Developer', 'Reed & Willow Talent Advisory Group', 'Pune, Maharashtra, India'), ('Application Developer- Full Stack Developer', 'YTSolutions (I) Pvt Ltd', 'Bengaluru, Karnataka, India'), ('Frontend Developer', 'EdSanta Education', 'India'), ('Web Developer', 'TypeTail', 'Chennai, Tamil Nadu, India')]\n"
     ]
    }
   ],
   "source": [
    "#select all data from table and print\n",
    "c.execute('''SELECT * FROM job''')\n",
    "results = c.fetchall()\n",
    "print(results)"
   ]
  },
  {
   "cell_type": "code",
   "execution_count": 123,
   "metadata": {},
   "outputs": [
    {
     "name": "stdout",
     "output_type": "stream",
     "text": [
      "URL not found\n"
     ]
    }
   ],
   "source": [
    "\n",
    "# Storing URL of Same Companies to get Data\n",
    "links = []\n",
    "for a in driver.find_elements(by=By.XPATH, value='//div[@class=\"mr1 artdeco-entity-lockup__image artdeco-entity-lockup__image--type-square ember-view\"]/a'):\n",
    "    # print(a.get_attribute('href'))\n",
    "    links.append(a.get_attribute('href'))\n",
    "\n",
    "\n",
    "\n",
    "dict1 = {\"description\": [], \"location\":[], \"no._of_employee\": []}\n",
    "for link in links:\n",
    "    source = requests.get(link)\n",
    "\n",
    "    try:\n",
    "        driver.get(link)\n",
    "        time.sleep(3)\n",
    "        driver.execute_script(\"window.scrollTo(0, 900)\")\n",
    "        time.sleep(2)\n",
    "        \n",
    "        dict1[\"description\"].append(driver.find_element(by=By.XPATH, value='//div[@class=\"jobs-company__box\"]/p/div').text)\n",
    "        dict1[\"no._of_employee\"].append(driver.find_element(by=By.XPATH, value='//span[1][@class=\"jobs-company__inline-information\"]').text)\n",
    "        dict1[\"location\"].append(driver.find_element(by=By.CLASS_NAME, value='jobs-unified-top-card__bullet').text)\n",
    "    except:\n",
    "        print(\"URL not found\")"
   ]
  },
  {
   "cell_type": "code",
   "execution_count": 125,
   "metadata": {},
   "outputs": [
    {
     "data": {
      "text/html": [
       "<div>\n",
       "<style scoped>\n",
       "    .dataframe tbody tr th:only-of-type {\n",
       "        vertical-align: middle;\n",
       "    }\n",
       "\n",
       "    .dataframe tbody tr th {\n",
       "        vertical-align: top;\n",
       "    }\n",
       "\n",
       "    .dataframe thead th {\n",
       "        text-align: right;\n",
       "    }\n",
       "</style>\n",
       "<table border=\"1\" class=\"dataframe\">\n",
       "  <thead>\n",
       "    <tr style=\"text-align: right;\">\n",
       "      <th></th>\n",
       "      <th>description</th>\n",
       "      <th>location</th>\n",
       "      <th>no._of_employee</th>\n",
       "    </tr>\n",
       "  </thead>\n",
       "  <tbody>\n",
       "    <tr>\n",
       "      <th>0</th>\n",
       "      <td>ZeetaPro Inc. (Creative Mileage Solutions Pvt....</td>\n",
       "      <td>Kolkata, West Bengal, India</td>\n",
       "      <td>11-50 employees</td>\n",
       "    </tr>\n",
       "    <tr>\n",
       "      <th>1</th>\n",
       "      <td>An e-learning platform with a vision to upskil...</td>\n",
       "      <td>Bengaluru, Karnataka, India</td>\n",
       "      <td>201-500 employees</td>\n",
       "    </tr>\n",
       "    <tr>\n",
       "      <th>2</th>\n",
       "      <td>Reed &amp; Willow- The Story\\nOurs is a generation...</td>\n",
       "      <td>Pune, Maharashtra, India</td>\n",
       "      <td>11-50 employees</td>\n",
       "    </tr>\n",
       "    <tr>\n",
       "      <th>3</th>\n",
       "      <td>YTSolutions - an LA based technology consultin...</td>\n",
       "      <td>Bengaluru, Karnataka, India</td>\n",
       "      <td>11-50 employees</td>\n",
       "    </tr>\n",
       "    <tr>\n",
       "      <th>4</th>\n",
       "      <td>We are an innovative education technology prod...</td>\n",
       "      <td>India</td>\n",
       "      <td>51-200 employees</td>\n",
       "    </tr>\n",
       "    <tr>\n",
       "      <th>5</th>\n",
       "      <td>TypeTail is a Augmented Reality studio buildin...</td>\n",
       "      <td>Chennai, Tamil Nadu, India</td>\n",
       "      <td>2-10 employees</td>\n",
       "    </tr>\n",
       "  </tbody>\n",
       "</table>\n",
       "</div>"
      ],
      "text/plain": [
       "                                         description  \\\n",
       "0  ZeetaPro Inc. (Creative Mileage Solutions Pvt....   \n",
       "1  An e-learning platform with a vision to upskil...   \n",
       "2  Reed & Willow- The Story\\nOurs is a generation...   \n",
       "3  YTSolutions - an LA based technology consultin...   \n",
       "4  We are an innovative education technology prod...   \n",
       "5  TypeTail is a Augmented Reality studio buildin...   \n",
       "\n",
       "                      location    no._of_employee  \n",
       "0  Kolkata, West Bengal, India    11-50 employees  \n",
       "1  Bengaluru, Karnataka, India  201-500 employees  \n",
       "2     Pune, Maharashtra, India    11-50 employees  \n",
       "3  Bengaluru, Karnataka, India    11-50 employees  \n",
       "4                        India   51-200 employees  \n",
       "5   Chennai, Tamil Nadu, India     2-10 employees  "
      ]
     },
     "execution_count": 125,
     "metadata": {},
     "output_type": "execute_result"
    }
   ],
   "source": [
    "# Creating CSV file using Pandas \n",
    "df1 = pd.DataFrame(dict1)\n",
    "df1"
   ]
  },
  {
   "cell_type": "markdown",
   "metadata": {},
   "source": [
    "# Data Base for Company Details"
   ]
  },
  {
   "cell_type": "markdown",
   "metadata": {},
   "source": [
    "Company Details: - Name, Description, State (States), Subcategory (Job types 2).\n"
   ]
  },
  {
   "cell_type": "code",
   "execution_count": 151,
   "metadata": {},
   "outputs": [],
   "source": [
    "#create connection\n",
    "conn = sqlite3.connect('Company_details1.db')\n",
    "c = conn.cursor()"
   ]
  },
  {
   "cell_type": "code",
   "execution_count": 152,
   "metadata": {
    "scrolled": false
   },
   "outputs": [
    {
     "data": {
      "text/plain": [
       "<sqlite3.Cursor at 0x2b812b56650>"
      ]
     },
     "execution_count": 152,
     "metadata": {},
     "output_type": "execute_result"
    }
   ],
   "source": [
    "#create a table\n",
    "c.execute('''CREATE TABLE Company_details1(Name TEXT,Description TEXT,State TEXT,Subcategory TEXT)''')"
   ]
  },
  {
   "cell_type": "code",
   "execution_count": 153,
   "metadata": {},
   "outputs": [],
   "source": [
    "for i in range(5):\n",
    "    c.execute('''INSERT INTO Company_details1 VALUES(?,?,?,?)''',((dictn[\"company\"][i]), dict1[\"description\"][i],(dictn[\"location\"][i]),(dictn[\"job_title\"][i]) ))"
   ]
  },
  {
   "cell_type": "code",
   "execution_count": 154,
   "metadata": {
    "scrolled": true
   },
   "outputs": [
    {
     "name": "stdout",
     "output_type": "stream",
     "text": [
      "[('ZeetaPro Inc.', 'ZeetaPro Inc. (Creative Mileage Solutions Pvt. Ltd.) have had a long history of developing custom web applications for its US based clients ranging from eCommerce, Online Reservations and Registrations, Content Management Systems, Media Library, Document Management, Product Information Management and other applications for smarter business processing. After development and deployment of solutions, we continued to provide technical support to our loyal customer base.\\n\\nAs part of its evolution and new strategic focus, the Company now offers its own proprietary SaaS solutions in Business Processes Automation to enable higher efficiency and easier administration.\\nThe Kolkata based Indian subsidiary is called Creative Mileage Solutions Pvt. Ltd.\\n…\\nshow more', 'Kolkata, West Bengal, India', 'PHP Web Developer'), ('SkillVertex', 'An e-learning platform with a vision to upskill students for the industry and help you land your dream Job/University.', 'Bengaluru, Karnataka, India', 'Frontend Developer'), ('Reed & Willow Talent Advisory Group', 'Reed & Willow- The Story\\nOurs is a generation of online shoppers. Imagine you buy a pair of shoes online. You receive them, but they aren\\'t the correct size. There is no option of returning them, so you keep them. They lie in your shoe closet, unused and wasted. Next time, when you want to buy shoes online, wouldn\\'t you buy the right shoes with the right fit for your feet?\\nSimilarly, how often have you faced the challenge of \"right feet and wrong fit\" when you\\'re hiring people?\\nReed & Willow is a Talent Solutions company with designing thinking at its heart & humans at work backed by technology.\\nReed & Willow was born out of the need to challenge the status quo in the recruitment space in India. Since the start, we\\'ve been strong-headed about making a big difference in how organizations manage a workforce.\\nWe are people who love what we do, but now and then, we have come across recruiters who do not like their jobs or HR teams who are deterred by their own created limitations. It is a pity to come across such scenarios in the recruitment space because, according to us, hiring is one of the most exciting fields to be in! We have the opportunity to help organizations to become game-changers by simply hiring the right one.\\nToday, the battle among organizations in India is not over money; it is over the right talent. If you have the right talent at the right time and place, you have a better chance of taking your organization to newer heights.\\nR&W is a strategic recruitment partnership company that makes talent acquisition cognitive. By using data-driven methods to drive our recruitment process, we want to save costs and time for our clients. How do we do that? We have adopted an unorthodox approach to identifying and retaining talent: combining best practices, technology, and human touch. We ride on the backbone of technology to build a robust hiring management system.\\n…\\nshow more', 'Pune, Maharashtra, India', 'Frontend Developer'), ('YTSolutions (I) Pvt Ltd', 'YTSolutions - an LA based technology consulting company rendering consulting services in business intelligence, custom ETL development, Application Integration & internet marketing solutions to various telecom, advertising, retail, real estate & energy companies in North America & Asia.', 'Bengaluru, Karnataka, India', 'Application Developer- Full Stack Developer'), ('EdSanta Education', 'We are an innovative education technology product company pioneering to become a global leader connecting learners to highly relevant learning resources, mentors and & jobs. We help users globally stay employable and relevant by upskilling and reskilling to bridge the skill gap.', 'India', 'Frontend Developer')]\n"
     ]
    }
   ],
   "source": [
    "#select all data from table and print\n",
    "c.execute('''SELECT * FROM Company_details1''')\n",
    "results = c.fetchall()\n",
    "print(results)"
   ]
  },
  {
   "cell_type": "markdown",
   "metadata": {},
   "source": [
    "# Future work"
   ]
  },
  {
   "cell_type": "markdown",
   "metadata": {},
   "source": [
    "Using for loops and lists, multiple job sub categories can be scraped for a given category in a given state"
   ]
  },
  {
   "cell_type": "code",
   "execution_count": null,
   "metadata": {},
   "outputs": [],
   "source": [
    "jobs-unified-top-card__company-name"
   ]
  }
 ],
 "metadata": {
  "kernelspec": {
   "display_name": "Python 3",
   "language": "python",
   "name": "python3"
  },
  "language_info": {
   "codemirror_mode": {
    "name": "ipython",
    "version": 3
   },
   "file_extension": ".py",
   "mimetype": "text/x-python",
   "name": "python",
   "nbconvert_exporter": "python",
   "pygments_lexer": "ipython3",
   "version": "3.8.5"
  }
 },
 "nbformat": 4,
 "nbformat_minor": 4
}
