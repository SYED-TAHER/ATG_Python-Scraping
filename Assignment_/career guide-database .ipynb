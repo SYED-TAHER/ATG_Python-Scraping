{
 "cells": [
  {
   "cell_type": "markdown",
   "metadata": {},
   "source": [
    "# CareerGuide Web Scraping using Selenium "
   ]
  },
  {
   "cell_type": "code",
   "execution_count": 1,
   "metadata": {},
   "outputs": [],
   "source": [
    "# importing webdriver will help in creating a dummy web browser for us.\n",
    "from selenium import webdriver\n",
    "\n",
    "# we use this library to ensure there is a span of time between requests.\n",
    "import time\n",
    "\n",
    "# pandas library helps in generating to DataFrames.\n",
    "import pandas as pd\n",
    "\n",
    "\n",
    "# import selenium By to locate to elements to scraped \n",
    "from selenium.webdriver.common.by import By\n"
   ]
  },
  {
   "cell_type": "markdown",
   "metadata": {},
   "source": [
    " We will be using a Google Chrome driver. We can download it from this site:  https://chromedriver.chromium.org/downloads"
   ]
  },
  {
   "cell_type": "markdown",
   "metadata": {},
   "source": [
    "### Move the driver file to a PATH\n",
    "Go to the Downloads directory, unzip the file and move it to 'C:/chromedrivers/chromedriver.exe' PATH."
   ]
  },
  {
   "cell_type": "code",
   "execution_count": 2,
   "metadata": {},
   "outputs": [
    {
     "name": "stderr",
     "output_type": "stream",
     "text": [
      "<ipython-input-2-813da720f857>:1: DeprecationWarning: executable_path has been deprecated, please pass in a Service object\n",
      "  driver = webdriver.Chrome(r'C:/chromedrivers/chromedriver.exe')\n"
     ]
    }
   ],
   "source": [
    "driver = webdriver.Chrome(r'C:/chromedrivers/chromedriver.exe')"
   ]
  },
  {
   "cell_type": "code",
   "execution_count": 3,
   "metadata": {},
   "outputs": [],
   "source": [
    "# input URL\n",
    "url = 'https://www.careerguide.com/career-options'\n",
    "driver.get(url)\n",
    "time.sleep(3)"
   ]
  },
  {
   "cell_type": "code",
   "execution_count": 4,
   "metadata": {},
   "outputs": [],
   "source": [
    "# Code to scrape titles \n",
    "title = driver.find_elements(by=By.XPATH, value='//div[@class=\"col-md-4\"]')\n",
    "titles = []\n",
    "for i in range(len(title)):\n",
    "    titles.append(title[i].text.replace('\\n',','))\n"
   ]
  },
  {
   "cell_type": "markdown",
   "metadata": {},
   "source": [
    "![inspect_screenshot](https://imgur.com/P69qHk3.png)"
   ]
  },
  {
   "cell_type": "code",
   "execution_count": 5,
   "metadata": {},
   "outputs": [],
   "source": [
    "titles = []\n",
    "for i in range(len(title)):\n",
    "    titles.append(title[i].text.replace('\\n',','))\n"
   ]
  },
  {
   "cell_type": "code",
   "execution_count": 29,
   "metadata": {},
   "outputs": [
    {
     "data": {
      "text/plain": [
       "39"
      ]
     },
     "execution_count": 29,
     "metadata": {},
     "output_type": "execute_result"
    }
   ],
   "source": [
    "len(titles)"
   ]
  },
  {
   "cell_type": "code",
   "execution_count": 31,
   "metadata": {},
   "outputs": [],
   "source": [
    "# Python3 program to Convert single\n",
    "# indexed list into multiple indexed list\n",
    "\n",
    "def convert(lst):\n",
    "    final = []\n",
    "    for i in range(len(lst)):\n",
    "        final.append(lst[i].split())\n",
    "    return final\n",
    "\n",
    "# Driver code\n",
    "lst = (titles)\n",
    "li =( convert(lst))\n"
   ]
  },
  {
   "cell_type": "code",
   "execution_count": 164,
   "metadata": {},
   "outputs": [],
   "source": [
    "#creating empty list cat to store all category names\n",
    "cat =[]\n",
    "for i in range(len(li)):\n",
    "    cat.append(li[i][0])\n"
   ]
  },
  {
   "cell_type": "code",
   "execution_count": 160,
   "metadata": {},
   "outputs": [],
   "source": [
    "# creating empty list sub_cat to store all sub category names\n",
    "\n",
    "sub_cat =[]\n",
    "for i in range(len(li)):\n",
    "    sub_cat.append(li[i][2:20])\n"
   ]
  },
  {
   "cell_type": "code",
   "execution_count": 135,
   "metadata": {},
   "outputs": [],
   "source": [
    "def flatten(sub_cat):\n",
    "    return [item for sublist in sub_cat for item in sublist]\n",
    "sub_categories = flatten(sub_cat)"
   ]
  },
  {
   "cell_type": "markdown",
   "metadata": {},
   "source": [
    "# Creating Database Table for Categories "
   ]
  },
  {
   "cell_type": "code",
   "execution_count": 81,
   "metadata": {},
   "outputs": [],
   "source": [
    "import sqlite3\n",
    "\n",
    "#create connection\n",
    "conn = sqlite3.connect('job_category1 .db')\n",
    "c = conn.cursor()"
   ]
  },
  {
   "cell_type": "code",
   "execution_count": 161,
   "metadata": {},
   "outputs": [
    {
     "data": {
      "text/plain": [
       "<sqlite3.Cursor at 0x1dd6531e500>"
      ]
     },
     "execution_count": 161,
     "metadata": {},
     "output_type": "execute_result"
    }
   ],
   "source": [
    "#create a table\n",
    "c.execute('''CREATE TABLE jobtypes(categories_  TEXT)''')"
   ]
  },
  {
   "cell_type": "code",
   "execution_count": 162,
   "metadata": {},
   "outputs": [],
   "source": [
    "for i in range(len(cat)):   \n",
    "    c.execute('''INSERT INTO jobtypes VALUES(?)''', (cat[i],))\n",
    "conn.commit()\n"
   ]
  },
  {
   "cell_type": "code",
   "execution_count": 163,
   "metadata": {},
   "outputs": [
    {
     "name": "stdout",
     "output_type": "stream",
     "text": [
      "[('Aerospace',), ('Agriculture,Agriculture',), ('Automobile',), ('Banking',), ('Beauty',), ('Building',), ('Building',), ('Chemicals',), ('Commerce',), ('Defense',), ('Designing',), ('Education',), ('Electronics',), ('Emergency',), ('Engineering',), ('Exams',), ('Food',), ('Gems',), ('Handlooms',), ('Healthcare,Geneticist,Audiologists,Ayurvedic',), ('Humanistic',), ('Information',), ('Institutes',), ('ITES',), ('Law',), ('Leather',), ('Management',), ('Media',), ('Organised',), ('Psychometric',), ('Public',), ('Real',), ('Science',), ('Sports,Sportsperson,Coach,Sports',), ('Study',), ('Telecom,BSS',), ('Textiles',), ('Tourism',), ('Transportation/Logistics/Warehousing',)]\n"
     ]
    }
   ],
   "source": [
    "#select all data from table and print\n",
    "c.execute('''SELECT * FROM jobtypes''')\n",
    "results = c.fetchall()\n",
    "print(results)"
   ]
  },
  {
   "cell_type": "markdown",
   "metadata": {},
   "source": [
    "# Creating Database Table for Sub Categories "
   ]
  },
  {
   "cell_type": "code",
   "execution_count": 150,
   "metadata": {},
   "outputs": [],
   "source": [
    "#create connection\n",
    "conn = sqlite3.connect('sub_category2 .db')\n",
    "c = conn.cursor()"
   ]
  },
  {
   "cell_type": "code",
   "execution_count": 151,
   "metadata": {},
   "outputs": [
    {
     "data": {
      "text/plain": [
       "<sqlite3.Cursor at 0x1dd65312730>"
      ]
     },
     "execution_count": 151,
     "metadata": {},
     "output_type": "execute_result"
    }
   ],
   "source": [
    "#create a table\n",
    "c.execute('''CREATE TABLE jobtypes(sub_categories  TEXT)''')"
   ]
  },
  {
   "cell_type": "code",
   "execution_count": 152,
   "metadata": {},
   "outputs": [],
   "source": [
    "for i in range(len(sub_categories)):\n",
    "\n",
    "\n",
    "    c.execute('''INSERT INTO jobtypes VALUES(?)''', (sub_categories[i],))\n",
    "conn.commit()\n"
   ]
  },
  {
   "cell_type": "code",
   "execution_count": 153,
   "metadata": {},
   "outputs": [
    {
     "name": "stdout",
     "output_type": "stream",
     "text": [
      "[('Aviation,Airline',), ('Pilot,Aerospace',), ('Materials',), ('Specialist,Air',), ('Traffic',), ('Controller,Aircraft',), ('Cleaner,Aircraft',), ('Maintenance',), ('Technician,Aircraft',), ('Refueller,Terminal',), ('Operations',), ('Manager,Reservation',), ('and',), ('Ticketing',), ('Agent,Ramp',), ('Service',), ('Agent,Ground',), ('Operation',), ('Allied',), ('Fields,Biological',), ('Scientist,Dietitian,Environmental',), ('scientist,Fishery',), ('Scientist,Food',), ('Technologists,Geographers',), (',Geologists,Indian',), ('Forest',), ('Service',), ('Officer',), (',Meteorologist,Nutritionists,Oceanographers,Zoologists,Crop',), ('Farmer,Farm',), ('Eqipment',), ('Mechanic,Fisheries,Gardener,Greenhouse',), ('Fitter,Horticulture',), ('Farmer,Micro',), ('Irrigation',), ('Technician,Pesticide',), ('Autocomponents,CNC',), ('Operator,Lathe',), ('Operator,Maintainance',), ('Technician,Spare',), ('Part',), ('Opertaion',), ('Executive,Washer',), ('Insurance',), ('&',), ('Finance,Actuary,Bank',), ('Officer,Chartered',), ('Accountant,Company',), ('Secretary,Cost',), ('Accountant,Financial',), ('Planners,Insurance',), ('Officer,Investment',), ('Analyst,Research',), ('Analyst,Security',), ('Analyst,Stock',), ('Brokers,Underwriter,Trading',), ('Advisor,Accountant,Bank',), ('Probationary',), ('Officer,Bank',), ('Clerks,Bank',), ('Specialist',), ('Wellness',), ('Industry,Makeup',), ('Artist',), ('Construction,Bar',), ('Bender,Construction',), ('Worker,Mason,Plumber,Road',), ('Worker,Welder,Supervisors,Foremen,Crane',), ('operators,Electricians,Carpenters',), ('Hardware',), ('&',), ('Home',), ('Furnishings,Building',), ('hardware',), ('and',), ('home',), ('furnishings,Building',), ('Carpenter,Ceiling',), ('Fixer,Civil',), ('Engineering',), ('Technician,Draftsman,Earth',), ('work',), ('excavator,Electrical',), ('Wiremen/Technician,Fitter,Interior',), ('Designer,Paint',), ('Sprayer,Scaffolder,Sheet',), ('Metal',), ('Pharmaceuticals,Chemical',), ('Technician,Equipment',), ('Operator,Industrial',), ('Chemical',), ('Manufacturing',), ('Attendant,lab',), ('Attendant,Manufacturing',), ('Assistant,Chemical',), ('and',), ('Pharmaceutical',), ('Operators,Process',), ('attendant-Chemical',), ('Plants,Production',), ('and',), ('QC',), ('Technician',), ('Humanities',), ('Stream,Commerce',), ('Military,Air',), ('Force',), ('Related',), ('Careers,Army',), ('Related',), ('Careers,Navy',), ('Related',), ('Careers,Police',), ('Service-',), ('Border',), ('Security',), ('Force,Police',), ('Service',), ('-',), ('Central',), ('Reserve',), ('Police',), ('Force',), ('Art,Accessory',), ('Designers,Architect,Beautician,Fashion',), ('Designer,Footwear',), ('Designer,Furniture',), ('Designer,Gemologist,Graphics',), ('Designer,Illustrator,Interior',), ('Designers,Jewellery',), ('Designers,Photographer,Textile',), ('Designers,Product',), ('Designer,Retail',), ('and',), ('Exhibition',), ('Designer,Animation',), ('Film',), ('Maker,User',), ('Experience',), ('Designer,Life',), ('Style',), ('Skill',), ('Development,School',), ('Psychologists,Clinical',), ('Psychologists,Foreign',), ('Langauge',), ('Teacher,Lecturers,Librarian,Physical',), ('Education',), ('Instructor/Coach,Principal,Professors,School',), ('Teacher,Special',), ('Educators,Translator,Tutor',), ('Hardware,Desktop',), ('Support',), ('engineer,Server',), ('Support',), ('engineer,Set',), ('Top',), ('Box',), ('Installer/Service,Pick',), ('and',), ('Place',), ('Assembly',), ('Operator,Network',), ('Planning',), ('/',), ('Infrastructure',), ('Eng.,Switching/',), ('Router',), ('Engineer,Test',), ('Fighter,Risk',), ('Management',), ('Specialist',), ('Technology,Instrumentation',), ('Engineer,Mechanical',), ('Engineer,Aeronautical',), ('Engineer,Agricultural',), ('Engineer,Aircraft',), ('Maintenance',), ('Engineer,Automobile',), ('Engineer,Biotechnologist,Chemical',), ('Engineer,Civil',), ('Engineer,Communication',), ('Engineer,Computer',), ('Engineer,Electrical',), ('Engineer,Electronics',), ('Engineer,Mining',), ('&',), ('Merallurgical',), ('Engineer,Petroleum',), ('Engineer,Rubber',), ('Syllabus,IPMAT,CET,MUCMET,UGAT,SET,FEAT,ISCAT,MU-OET,jeemain,jeeadvance,bitsat,viteee,AMUEEE,SRMEEE,BVP-CET,COMEDK-UGET,AEEE,CLAT,AILET,Jamia-LEE,AMU-LEE,CU-BA-LLB,IPU-CET-LLB,CU-LEE,MUCLET,ILS-CET,CU-CET,GPTU,DAVV-CET,AIL-LET,BHU-UET,AIIMS,NEET,JIPMER,Nift,Dat,pearl,Delhi-University,Christ-University,Jai-Hind-College-Mumbai,Xaviers-University,npat,ucbs,JMIEE,BUMAT,BHMCT,SNUSAT,iicd',), ('Farmer,Dairy',), ('Process',), ('Worker,Food',), ('Technologist/Analyst,Baker',), ('Jewellery,Jewellery',), ('Setter,Enameller,Jewellery',), ('Designer',), ('(Manual',), ('and',), ('Computerized),Metal',), ('Setter,Polisher,Wax',), ('Setter,Casting',), ('Machine',), ('Operator,Diamond',), ('Assorter',), ('and',), ('Bagger,Jewellery',), ('Merchandiser,Planner/Maker,Lase',), ('Operator,Diamond',), ('Processing',), ('Sawyer,Diamond',), ('Bruter,Germologist',), ('Handicrafts,Knotter,Embroidery',), ('and',), ('needle',), ('worker,Cane',), ('and',), ('Bamboo',), ('worker,Carpet',), ('Designer,Fabricator',), ('Designer,Pulp',), ('Beater',), ('and',), ('Paper',), ('Cutter,Rag',), ('Chopper,Calendering',), ('Operator,Handloom',), ('Technologist',), ('Scientists,Homoeopathy,Microbiologist,Nursing,Nutritionist,Opthalomogists,Pharmacists,Physician',), ('Doctor,Physiotherapists,Psychologist,Speech',), ('Therapists,Veterinarian,General',), ('duty',), ('Attendant,Geriatric',), ('Nursing',), ('Assistant,Dietician',), ('Assistant,Vaccination',), ('Technician,Dresser,Midwifery',), ('Assistant,Operation',), ('Theatre',), ('Technician,Bio',), ('electrical',), ('Modality',), ('Operator,Therapeutic',), ('Massage',), ('Technician,EMG',), ('Technician,Dental',), ('Worker,Life',), ('Skill',), ('Trainer,Elder',), ('care',), ('services,Career',), ('counselor,Research',), ('Assistant,Corporate',), ('Trainers,NGO',), ('Management,Distance',), ('Learning',), ('Coordinator,Speech',), ('Pathologist,Marriage',), ('Counsellor,Sociologist',), ('/',), ('Software,Database',), ('Administrator,DTP',), ('Operators,Game',), ('Designer,Hardware',), ('Engineer,Networking',), ('Engineer,Software',), ('Engineer',), ('Programmer,System',), ('Architect,Technical',), ('Writers,Web',), ('Designer,App',), ('Developer,IT',), ('Recovery',), ('Specialist,Ethical',), ('Hacker,Data',), ('scientist,UX',), ('-',), ('India,College',), ('Admissions,AD',), ('Patel',), ('Institute',), ('of',), ('Technology',), ('Anand,Amity',), ('University',), ('Lucknow,Maharaja',), ('Agrasen',), ('University',), ('Solan,Rashtrasant',), ('Tukadoji',), ('Maharaj',), ('Nagpur',), ('University',), ('Nagpur,Alliance',), ('School',), ('BPO,Customer',), ('Support',), ('-',), ('On',), ('Phone',), ('(Regional',), ('Language),DTP',), ('Publisher,Data',), ('Entry',), ('Operator,Customer',), ('Support',), ('-',), ('On',), ('Phone',), ('(English',), ('Language),Customer',), ('Support',), ('-',), ('Order,Judge,Civil',), ('Lawyer,Constitutional',), ('Lawyer,Corporate',), ('Lawyer,Criminal',), ('Lawyer,Family',), ('Lawyer,Labour',), ('Law',), ('Lawyer,Taxation',), ('Lawyer,Patent',), ('Attorney,Criminal',), ('Investigator',), ('Leather',), ('Goods,Leather',), ('and',), ('leather',), ('goods,Pattern',), ('and',), ('Template',), ('Maker,Cutter,Stitcher,Assistant',), ('Operator',), ('-Finished',), ('Leather,Assistant',), ('Operator',), ('Footwear,Buffing',), ('Operator',), ('Marketing,Advertising,Business',), ('Analyst,Event',), ('Management,Finance',), ('Management,Hospital',), ('Management,Human',), ('Resource',), ('Management,Market',), ('Research,Marketing',), ('Manager,Public',), ('Relations',), ('Executive,Retail',), ('Management,Rural',), ('Management,Sales',), ('Manager,Hospitality',), ('and',), ('Tourism',), ('management,Banking',), ('and',), ('Entertainment',), ('&',), ('Animation,Anchor,Animator,Audio',), ('and',), ('Video',), ('Technologist,Choreographer,Disc',), ('Jockeys,Editor,Journalist,News',), ('Reader,PhotoJournalist,Radio',), ('Jockey,Reporters,Video',), ('Editor,Writer,Blogger,Content',), ('Writer,Video',), ('Journalist,Social',), ('Media',), ('Manager,Photo',), ('journalist,Online',), ('Reputational',), ('Manager,Copy',), ('Writer,Event',), ('Cashier,Counter',), ('sales',), ('Executives,Customer',), ('Service',), ('Assistant,Floor',), ('Managers,Online',), ('shopping',), ('process',), ('manager,Retail',), ('Coordinator,Retail',), ('sales',), ('executive,Sales',), ('Assistant,Store',), ('Manager,Visual',), ('Merchandiser,Home',), ('Delivery',), ('Agents,Security',), ('Guard',), ('Test,Ideal',), ('Career',), ('Test',), ('&',), ('Government,Indian',), ('Administrative',), ('Services,Indian',), ('Foreign',), ('Services',), ('Officer,Indian',), ('Forest',), ('Service',), ('Officer,Indian',), ('Information',), ('Service',), ('Officer,Indian',), ('Police',), ('Services',), ('Officer,Indian',), ('Postal',), ('Service',), ('Estate',), ('Broker',), ('Research,Astronomer,Biologists,Genetics',), ('Scientists,Geologist,Mathematician,Microbiologists,Physicists,Statistician,Biophysicist,Hydrologist,Nuclear',), ('Power',), ('Reactor',), ('Operator',), ('Psychologist,Medicine',), ('Expert,Sports',), ('Manager,Sports',), ('Officials,Sports',), ('Lawyer',), ('in',), ('USA,Study',), ('in',), ('Canada,Study',), ('in',), ('UK,Study',), ('in',), ('New',), ('Zealand,Study',), ('in',), ('Australia,Study',), ('in',), ('Germany',), ('(Repair',), ('Center),Cluster',), ('In',), ('-charge,Cluster',), ('Manager,Core',), ('Engineer,Customer',), ('Care',), ('Executive(Call',), ('Center),Distributor',), ('Sales',), ('Representative',), ('(Handset),Fault',), ('Management',), ('Engineer,Field',), ('Maintenance',), ('Engineer,Field',), ('Sales',), ('Executive,Territory',), ('Garments,Batik',), ('Printing',), ('Specialist,Textile',), ('Machine',), ('Operators,Block',), ('Printer,Designer',), ('&',), ('Master',), ('Cutter,Doffer',), ('cum',), ('piercer,Embroidery',), ('and',), ('Needle',), ('Worker,Textile',), ('Process',), ('Operator,Fabric',), ('Technologists,Fashion',), ('Merchandiser,Garment',), ('Hospitality',), ('&',), ('Travel,Cabin',), ('Crew,Chef,Hotel',), ('Managers,Interpreters',), ('&',), ('Translators,Marine',), ('Engineers,Tourist',), ('Guide/Manager,Video',), ('Jockey,Tour',), ('Operators,Health',), ('Tourism,Adventure',), ('Tourism,Holiday',), ('Consultant,Deictics,Exercise',), ('Instructor,Food',), ('Stylist,Fare',), ('and',), ('Ticketing',), ('Packaging,Loader,Courier',), ('Personal,Operation',), ('Superisor,Taxi',), ('Driver,Commercial',), ('Vehicle',), ('Driver,Driving',), ('Assistant,Documentation',), ('Staff,Operator/Workmen/Frontline',), ('Staff,warehouse',), ('Supervisor,Automative',), ('service',), ('Technician,Accesory',), ('Fitter,Automobile',), ('SaleS',), ('Executive,Automotive',), ('Body',), ('Technician,Automotive',), ('Electrician,Automotive',)]\n"
     ]
    }
   ],
   "source": [
    "#select all data from table and print\n",
    "c.execute('''SELECT * FROM jobtypes''')\n",
    "results = c.fetchall()\n",
    "print(results)"
   ]
  },
  {
   "cell_type": "markdown",
   "metadata": {},
   "source": [
    "# Creating Database Table for States"
   ]
  },
  {
   "cell_type": "code",
   "execution_count": 143,
   "metadata": {},
   "outputs": [
    {
     "data": {
      "text/plain": [
       "36"
      ]
     },
     "execution_count": 143,
     "metadata": {},
     "output_type": "execute_result"
    }
   ],
   "source": [
    "states = [\"Andhra Pradesh\",\"Arunachal Pradesh \",\"Assam\",\"Bihar\",\"Chhattisgarh\",\"Goa\",\"Gujarat\",\"Haryana\",\"Himachal Pradesh\",\"Jammu and Kashmir\",\"Jharkhand\",\"Karnataka\",\"Kerala\",\"Madhya Pradesh\",\"Maharashtra\",\"Manipur\",\"Meghalaya\",\"Mizoram\",\"Nagaland\",\"Odisha\",\"Punjab\",\"Rajasthan\",\"Sikkim\",\"Tamil Nadu\",\"Telangana\",\"Tripura\",\"Uttar Pradesh\",\"Uttarakhand\",\"West Bengal\",\"Andaman and Nicobar Islands\",\"Chandigarh\",\"Dadra and Nagar Haveli\",\"Daman and Diu\",\"Lakshadweep\",\"National Capital Territory of Delhi\",\"Puducherry\"]\n",
    "\n",
    "\n",
    "len(states)"
   ]
  },
  {
   "cell_type": "code",
   "execution_count": 155,
   "metadata": {},
   "outputs": [],
   "source": [
    "#create connection\n",
    "conn = sqlite3.connect('State.db')\n",
    "c = conn.cursor()"
   ]
  },
  {
   "cell_type": "code",
   "execution_count": 156,
   "metadata": {},
   "outputs": [
    {
     "data": {
      "text/plain": [
       "<sqlite3.Cursor at 0x1dd6531e500>"
      ]
     },
     "execution_count": 156,
     "metadata": {},
     "output_type": "execute_result"
    }
   ],
   "source": [
    "#create a table\n",
    "c.execute('''CREATE TABLE States(state  TEXT)''')"
   ]
  },
  {
   "cell_type": "code",
   "execution_count": 157,
   "metadata": {},
   "outputs": [],
   "source": [
    "for i in range(len(states)):\n",
    "\n",
    "\n",
    "    c.execute('''INSERT INTO States VALUES(?)''', (states[i],))\n",
    "conn.commit()\n"
   ]
  },
  {
   "cell_type": "code",
   "execution_count": 159,
   "metadata": {},
   "outputs": [
    {
     "name": "stdout",
     "output_type": "stream",
     "text": [
      "[('Andhra Pradesh',), ('Arunachal Pradesh ',), ('Assam',), ('Bihar',), ('Chhattisgarh',), ('Goa',), ('Gujarat',), ('Haryana',), ('Himachal Pradesh',), ('Jammu and Kashmir',), ('Jharkhand',), ('Karnataka',), ('Kerala',), ('Madhya Pradesh',), ('Maharashtra',), ('Manipur',), ('Meghalaya',), ('Mizoram',), ('Nagaland',), ('Odisha',), ('Punjab',), ('Rajasthan',), ('Sikkim',), ('Tamil Nadu',), ('Telangana',), ('Tripura',), ('Uttar Pradesh',), ('Uttarakhand',), ('West Bengal',), ('Andaman and Nicobar Islands',), ('Chandigarh',), ('Dadra and Nagar Haveli',), ('Daman and Diu',), ('Lakshadweep',), ('National Capital Territory of Delhi',), ('Puducherry',)]\n"
     ]
    }
   ],
   "source": [
    "#select all data from table and print\n",
    "c.execute('''SELECT * FROM States''')\n",
    "results = c.fetchall()\n",
    "print(results)"
   ]
  },
  {
   "cell_type": "code",
   "execution_count": null,
   "metadata": {},
   "outputs": [],
   "source": []
  }
 ],
 "metadata": {
  "kernelspec": {
   "display_name": "Python 3",
   "language": "python",
   "name": "python3"
  },
  "language_info": {
   "codemirror_mode": {
    "name": "ipython",
    "version": 3
   },
   "file_extension": ".py",
   "mimetype": "text/x-python",
   "name": "python",
   "nbconvert_exporter": "python",
   "pygments_lexer": "ipython3",
   "version": "3.8.5"
  }
 },
 "nbformat": 4,
 "nbformat_minor": 4
}
