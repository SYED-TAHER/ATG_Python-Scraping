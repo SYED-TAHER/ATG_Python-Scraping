{
 "cells": [
  {
   "cell_type": "markdown",
   "metadata": {},
   "source": [
    "# LinkedIn Web Scraping using Selenium "
   ]
  },
  {
   "cell_type": "code",
   "execution_count": 65,
   "metadata": {},
   "outputs": [],
   "source": [
    "# importing webdriver will help in creating a dummy web browser for us.\n",
    "from selenium import webdriver\n",
    "\n",
    "# we use this library to ensure there is a span of time between requests.\n",
    "import time\n",
    "\n",
    "# pandas library helps in generating to DataFrames.\n",
    "import pandas as pd\n",
    "\n",
    "\n",
    "# import selenium By to locate to elements to scraped \n",
    "from selenium.webdriver.common.by import By\n"
   ]
  },
  {
   "cell_type": "markdown",
   "metadata": {},
   "source": [
    " We will be using a Google Chrome driver. We can download it from this site:  https://chromedriver.chromium.org/downloads"
   ]
  },
  {
   "cell_type": "markdown",
   "metadata": {},
   "source": [
    "### Move the driver file to a PATH\n",
    "Go to the Downloads directory, unzip the file and move it to 'C:/chromedrivers/chromedriver.exe' PATH."
   ]
  },
  {
   "cell_type": "code",
   "execution_count": 66,
   "metadata": {},
   "outputs": [
    {
     "name": "stderr",
     "output_type": "stream",
     "text": [
      "<ipython-input-66-813da720f857>:1: DeprecationWarning: executable_path has been deprecated, please pass in a Service object\n",
      "  driver = webdriver.Chrome(r'C:/chromedrivers/chromedriver.exe')\n"
     ]
    }
   ],
   "source": [
    "driver = webdriver.Chrome(r'C:/chromedrivers/chromedriver.exe')\n"
   ]
  },
  {
   "cell_type": "code",
   "execution_count": 67,
   "metadata": {},
   "outputs": [],
   "source": [
    "#input URL\n",
    "driver.get('https://www.linkedin.com/')\n",
    "time.sleep(3)\n"
   ]
  },
  {
   "cell_type": "code",
   "execution_count": 68,
   "metadata": {},
   "outputs": [],
   "source": [
    "# For Login into LinkedIn\n",
    "username = driver.find_element(by=By.ID, value=\"session_key\")\n",
    "username.send_keys(\"_____________________________\")#provide linkedin login user_id in the blank. \n",
    "password = driver.find_element(by=By.ID, value=\"session_password\")\n",
    "password.send_keys(\"____________\") #provide linkedin login password in the blank.\n",
    "time.sleep(2)"
   ]
  },
  {
   "cell_type": "markdown",
   "metadata": {},
   "source": [
    "![LinkedIn](https://imgur.com/hYqdJHc.png)"
   ]
  },
  {
   "cell_type": "code",
   "execution_count": 69,
   "metadata": {},
   "outputs": [],
   "source": [
    "# Submit Button click\n",
    "login_button = driver.find_element(by=By.CLASS_NAME, value=\"sign-in-form__submit-button\")\n",
    "login_button.click()\n",
    "time.sleep(2)"
   ]
  },
  {
   "cell_type": "code",
   "execution_count": 71,
   "metadata": {},
   "outputs": [],
   "source": [
    "# Input URL for Linkedin jobs\n",
    "driver.get(\"https://www.linkedin.com/jobs/search/?keywords=web%20developer\")\n",
    "driver.execute_script(\"window.scrollTo(0, document.body.scrollHeight);\")\n",
    "time.sleep(5)"
   ]
  },
  {
   "cell_type": "markdown",
   "metadata": {},
   "source": [
    "# Job Category:Information Technology\n"
   ]
  },
  {
   "cell_type": "code",
   "execution_count": 81,
   "metadata": {},
   "outputs": [],
   "source": [
    "Sub_Category =['Web Developer']"
   ]
  },
  {
   "cell_type": "code",
   "execution_count": 83,
   "metadata": {},
   "outputs": [],
   "source": [
    "# Input URL for Linkedin jobs\n",
    "\n",
    "for job in Sub_Category:\n",
    "    driver.get(\"https://www.linkedin.com/jobs/search/?keywords=\" + job)\n",
    "    driver.execute_script(\"window.scrollTo(0, document.body.scrollHeight);\")\n",
    "    time.sleep(5)"
   ]
  },
  {
   "cell_type": "code",
   "execution_count": 84,
   "metadata": {},
   "outputs": [],
   "source": [
    "# Creating empty Python Dictionary\n",
    "dictn = {'job_title': [], 'company': [], 'location': []}\n",
    "titles = driver.find_elements(by=By.XPATH, value=\"//div[@class='full-width artdeco-entity-lockup__title ember-view']/a\")\n",
    "company = driver.find_elements(by=By.XPATH, value=\"//div[@class='artdeco-entity-lockup__subtitle ember-view']/a\")\n",
    "location = driver.find_elements(by=By.XPATH, value='//div[@class=\"artdeco-entity-lockup__caption ember-view\"]/ul/li[1]')"
   ]
  },
  {
   "cell_type": "code",
   "execution_count": 85,
   "metadata": {},
   "outputs": [
    {
     "name": "stdout",
     "output_type": "stream",
     "text": [
      "11\n"
     ]
    }
   ],
   "source": [
    "# Store data into Python Dictionary\n",
    "index = min(len(titles),len(company),len(location))\n",
    "print(index)\n",
    "for i in range(index):\n",
    "    dictn['job_title'].append(titles[i].text)\n",
    "    dictn['company'].append(company[i].text)\n",
    "    dictn['location'].append(location[i].text)"
   ]
  },
  {
   "cell_type": "code",
   "execution_count": 86,
   "metadata": {},
   "outputs": [
    {
     "data": {
      "text/html": [
       "<div>\n",
       "<style scoped>\n",
       "    .dataframe tbody tr th:only-of-type {\n",
       "        vertical-align: middle;\n",
       "    }\n",
       "\n",
       "    .dataframe tbody tr th {\n",
       "        vertical-align: top;\n",
       "    }\n",
       "\n",
       "    .dataframe thead th {\n",
       "        text-align: right;\n",
       "    }\n",
       "</style>\n",
       "<table border=\"1\" class=\"dataframe\">\n",
       "  <thead>\n",
       "    <tr style=\"text-align: right;\">\n",
       "      <th></th>\n",
       "      <th>job_title</th>\n",
       "      <th>company</th>\n",
       "      <th>location</th>\n",
       "    </tr>\n",
       "  </thead>\n",
       "  <tbody>\n",
       "    <tr>\n",
       "      <th>0</th>\n",
       "      <td>Quality Analyst</td>\n",
       "      <td>Lightbox Creation</td>\n",
       "      <td>Ahmedabad, Gujarat, India</td>\n",
       "    </tr>\n",
       "    <tr>\n",
       "      <th>1</th>\n",
       "      <td>Quality Analyst ( audit calls )</td>\n",
       "      <td>Make My House</td>\n",
       "      <td>Indore, Madhya Pradesh, India</td>\n",
       "    </tr>\n",
       "    <tr>\n",
       "      <th>2</th>\n",
       "      <td>Quality Analyst</td>\n",
       "      <td>FIRMINIQ</td>\n",
       "      <td>Chandigarh, India</td>\n",
       "    </tr>\n",
       "    <tr>\n",
       "      <th>3</th>\n",
       "      <td>EE Receivables Quality Analyst, GERM</td>\n",
       "      <td>Amazon</td>\n",
       "      <td>Hyderabad, Telangana, India</td>\n",
       "    </tr>\n",
       "    <tr>\n",
       "      <th>4</th>\n",
       "      <td>Associate Quality Analyst - MRC</td>\n",
       "      <td>Sphera</td>\n",
       "      <td>Bengaluru, Karnataka, India</td>\n",
       "    </tr>\n",
       "    <tr>\n",
       "      <th>5</th>\n",
       "      <td>Business Analyst Intern</td>\n",
       "      <td>Convocean</td>\n",
       "      <td>India</td>\n",
       "    </tr>\n",
       "    <tr>\n",
       "      <th>6</th>\n",
       "      <td>QUALITY ANALYST</td>\n",
       "      <td>HELLA</td>\n",
       "      <td>Gurugram, Haryana, India</td>\n",
       "    </tr>\n",
       "    <tr>\n",
       "      <th>7</th>\n",
       "      <td>Business Analyst Intern</td>\n",
       "      <td>Convocean</td>\n",
       "      <td>India</td>\n",
       "    </tr>\n",
       "    <tr>\n",
       "      <th>8</th>\n",
       "      <td>Quality Analyst</td>\n",
       "      <td>Amazon</td>\n",
       "      <td>Bengaluru, Karnataka, India</td>\n",
       "    </tr>\n",
       "    <tr>\n",
       "      <th>9</th>\n",
       "      <td>Quality Analyst</td>\n",
       "      <td>Wipro</td>\n",
       "      <td>Kolkata, West Bengal, India</td>\n",
       "    </tr>\n",
       "    <tr>\n",
       "      <th>10</th>\n",
       "      <td>Quality analyst</td>\n",
       "      <td>Paytm</td>\n",
       "      <td>Noida, Uttar Pradesh, India</td>\n",
       "    </tr>\n",
       "  </tbody>\n",
       "</table>\n",
       "</div>"
      ],
      "text/plain": [
       "                               job_title            company  \\\n",
       "0                        Quality Analyst  Lightbox Creation   \n",
       "1        Quality Analyst ( audit calls )      Make My House   \n",
       "2                        Quality Analyst           FIRMINIQ   \n",
       "3   EE Receivables Quality Analyst, GERM             Amazon   \n",
       "4        Associate Quality Analyst - MRC             Sphera   \n",
       "5                Business Analyst Intern          Convocean   \n",
       "6                        QUALITY ANALYST              HELLA   \n",
       "7                Business Analyst Intern          Convocean   \n",
       "8                        Quality Analyst             Amazon   \n",
       "9                        Quality Analyst              Wipro   \n",
       "10                       Quality analyst              Paytm   \n",
       "\n",
       "                         location  \n",
       "0       Ahmedabad, Gujarat, India  \n",
       "1   Indore, Madhya Pradesh, India  \n",
       "2               Chandigarh, India  \n",
       "3     Hyderabad, Telangana, India  \n",
       "4     Bengaluru, Karnataka, India  \n",
       "5                           India  \n",
       "6        Gurugram, Haryana, India  \n",
       "7                           India  \n",
       "8     Bengaluru, Karnataka, India  \n",
       "9     Kolkata, West Bengal, India  \n",
       "10    Noida, Uttar Pradesh, India  "
      ]
     },
     "execution_count": 86,
     "metadata": {},
     "output_type": "execute_result"
    }
   ],
   "source": [
    "# Creating CSV file using Pandas \n",
    "df = pd.DataFrame(dictn)\n",
    "df\n"
   ]
  },
  {
   "cell_type": "code",
   "execution_count": 87,
   "metadata": {},
   "outputs": [],
   "source": [
    "#code to convert dataframe into csv\n",
    "df.to_csv('job.csv')"
   ]
  },
  {
   "cell_type": "code",
   "execution_count": 88,
   "metadata": {},
   "outputs": [],
   "source": [
    "\n",
    "# Storing URL of Same Companies to get Data\n",
    "links = []\n",
    "for a in driver.find_elements(by=By.XPATH, value='//div[@class=\"mr1 artdeco-entity-lockup__image artdeco-entity-lockup__image--type-square ember-view\"]/a'):\n",
    "    # print(a.get_attribute('href'))\n",
    "    links.append(a.get_attribute('href'))\n",
    "\n",
    "\n",
    "\n",
    "dict1 = {\"description\": [], \"location\":[], \"no._of_employee\": []}\n",
    "for link in links:\n",
    "    source = requests.get(link)\n",
    "\n",
    "    try:\n",
    "        driver.get(link)\n",
    "        time.sleep(3)\n",
    "        driver.execute_script(\"window.scrollTo(0, 900)\")\n",
    "        time.sleep(2)\n",
    "        dict1[\"description\"].append(driver.find_element(by=By.XPATH, value='//div[@class=\"jobs-company__box\"]/p/div').text)\n",
    "        dict1[\"no._of_employee\"].append(driver.find_element(by=By.XPATH, value='//span[1][@class=\"jobs-company__inline-information\"]').text)\n",
    "        dict1[\"location\"].append(driver.find_element(by=By.CLASS_NAME, value='jobs-unified-top-card__bullet').text)\n",
    "    except:\n",
    "        print(\"URL not found\")"
   ]
  },
  {
   "cell_type": "code",
   "execution_count": 89,
   "metadata": {},
   "outputs": [
    {
     "data": {
      "text/plain": [
       "11"
      ]
     },
     "execution_count": 89,
     "metadata": {},
     "output_type": "execute_result"
    }
   ],
   "source": [
    "len(links)"
   ]
  },
  {
   "cell_type": "code",
   "execution_count": 90,
   "metadata": {},
   "outputs": [
    {
     "data": {
      "text/html": [
       "<div>\n",
       "<style scoped>\n",
       "    .dataframe tbody tr th:only-of-type {\n",
       "        vertical-align: middle;\n",
       "    }\n",
       "\n",
       "    .dataframe tbody tr th {\n",
       "        vertical-align: top;\n",
       "    }\n",
       "\n",
       "    .dataframe thead th {\n",
       "        text-align: right;\n",
       "    }\n",
       "</style>\n",
       "<table border=\"1\" class=\"dataframe\">\n",
       "  <thead>\n",
       "    <tr style=\"text-align: right;\">\n",
       "      <th></th>\n",
       "      <th>description</th>\n",
       "      <th>location</th>\n",
       "      <th>no._of_employee</th>\n",
       "    </tr>\n",
       "  </thead>\n",
       "  <tbody>\n",
       "    <tr>\n",
       "      <th>0</th>\n",
       "      <td>Lightbox Creation is a branding and digital ag...</td>\n",
       "      <td>Ahmedabad, Gujarat, India</td>\n",
       "      <td>2-10 employees</td>\n",
       "    </tr>\n",
       "    <tr>\n",
       "      <th>1</th>\n",
       "      <td>MMH is a team of architects, civil engineers, ...</td>\n",
       "      <td>Indore, Madhya Pradesh, India</td>\n",
       "      <td>51-200 employees</td>\n",
       "    </tr>\n",
       "    <tr>\n",
       "      <th>2</th>\n",
       "      <td>FIRMINIQ team is led by highly experienced pro...</td>\n",
       "      <td>Chandigarh, India</td>\n",
       "      <td>51-200 employees</td>\n",
       "    </tr>\n",
       "    <tr>\n",
       "      <th>3</th>\n",
       "      <td>Amazon is guided by four principles: customer ...</td>\n",
       "      <td>Hyderabad, Telangana, India</td>\n",
       "      <td>10,001+ employees</td>\n",
       "    </tr>\n",
       "    <tr>\n",
       "      <th>4</th>\n",
       "      <td>Sphera creates a safer, more sustainable and p...</td>\n",
       "      <td>Bengaluru, Karnataka, India</td>\n",
       "      <td>501-1,000 employees</td>\n",
       "    </tr>\n",
       "    <tr>\n",
       "      <th>5</th>\n",
       "      <td>ConvOcean provides location based social media...</td>\n",
       "      <td>India</td>\n",
       "      <td>11-50 employees</td>\n",
       "    </tr>\n",
       "    <tr>\n",
       "      <th>6</th>\n",
       "      <td>About HELLA\\nHELLA is a listed subsidiary of F...</td>\n",
       "      <td>Gurugram, Haryana, India</td>\n",
       "      <td>10,001+ employees</td>\n",
       "    </tr>\n",
       "    <tr>\n",
       "      <th>7</th>\n",
       "      <td>ConvOcean provides location based social media...</td>\n",
       "      <td>India</td>\n",
       "      <td>11-50 employees</td>\n",
       "    </tr>\n",
       "    <tr>\n",
       "      <th>8</th>\n",
       "      <td>Amazon is guided by four principles: customer ...</td>\n",
       "      <td>Bengaluru, Karnataka, India</td>\n",
       "      <td>10,001+ employees</td>\n",
       "    </tr>\n",
       "    <tr>\n",
       "      <th>9</th>\n",
       "      <td>Wipro Limited (NYSE: WIT, BSE: 507685, NSE: WI...</td>\n",
       "      <td>Kolkata, West Bengal, India</td>\n",
       "      <td>10,001+ employees</td>\n",
       "    </tr>\n",
       "    <tr>\n",
       "      <th>10</th>\n",
       "      <td>Paytm started the Digital Revolution in India....</td>\n",
       "      <td>Noida, Uttar Pradesh, India</td>\n",
       "      <td>10,001+ employees</td>\n",
       "    </tr>\n",
       "  </tbody>\n",
       "</table>\n",
       "</div>"
      ],
      "text/plain": [
       "                                          description  \\\n",
       "0   Lightbox Creation is a branding and digital ag...   \n",
       "1   MMH is a team of architects, civil engineers, ...   \n",
       "2   FIRMINIQ team is led by highly experienced pro...   \n",
       "3   Amazon is guided by four principles: customer ...   \n",
       "4   Sphera creates a safer, more sustainable and p...   \n",
       "5   ConvOcean provides location based social media...   \n",
       "6   About HELLA\\nHELLA is a listed subsidiary of F...   \n",
       "7   ConvOcean provides location based social media...   \n",
       "8   Amazon is guided by four principles: customer ...   \n",
       "9   Wipro Limited (NYSE: WIT, BSE: 507685, NSE: WI...   \n",
       "10  Paytm started the Digital Revolution in India....   \n",
       "\n",
       "                         location      no._of_employee  \n",
       "0       Ahmedabad, Gujarat, India       2-10 employees  \n",
       "1   Indore, Madhya Pradesh, India     51-200 employees  \n",
       "2               Chandigarh, India     51-200 employees  \n",
       "3     Hyderabad, Telangana, India    10,001+ employees  \n",
       "4     Bengaluru, Karnataka, India  501-1,000 employees  \n",
       "5                           India      11-50 employees  \n",
       "6        Gurugram, Haryana, India    10,001+ employees  \n",
       "7                           India      11-50 employees  \n",
       "8     Bengaluru, Karnataka, India    10,001+ employees  \n",
       "9     Kolkata, West Bengal, India    10,001+ employees  \n",
       "10    Noida, Uttar Pradesh, India    10,001+ employees  "
      ]
     },
     "execution_count": 90,
     "metadata": {},
     "output_type": "execute_result"
    }
   ],
   "source": [
    "# Creating CSV file using Pandas \n",
    "df1 = pd.DataFrame(dict1)\n",
    "df1"
   ]
  },
  {
   "cell_type": "code",
   "execution_count": null,
   "metadata": {},
   "outputs": [],
   "source": [
    "#code to convert dataframe into csv\n",
    "df.to_csv('job details.csv')"
   ]
  },
  {
   "cell_type": "markdown",
   "metadata": {},
   "source": [
    "# Future work"
   ]
  },
  {
   "cell_type": "markdown",
   "metadata": {},
   "source": [
    "Using for loops and lists, multiple job sub categories can be scraped for a given category in a given state"
   ]
  },
  {
   "cell_type": "code",
   "execution_count": null,
   "metadata": {},
   "outputs": [],
   "source": []
  }
 ],
 "metadata": {
  "kernelspec": {
   "display_name": "Python 3",
   "language": "python",
   "name": "python3"
  },
  "language_info": {
   "codemirror_mode": {
    "name": "ipython",
    "version": 3
   },
   "file_extension": ".py",
   "mimetype": "text/x-python",
   "name": "python",
   "nbconvert_exporter": "python",
   "pygments_lexer": "ipython3",
   "version": "3.8.5"
  }
 },
 "nbformat": 4,
 "nbformat_minor": 4
}
